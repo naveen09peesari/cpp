{
  "nbformat": 4,
  "nbformat_minor": 0,
  "metadata": {
    "colab": {
      "provenance": [],
      "toc_visible": true,
      "authorship_tag": "ABX9TyMWnFZCZVrv77Tomk5M/VKR",
      "include_colab_link": true
    },
    "kernelspec": {
      "name": "python3",
      "display_name": "Python 3"
    },
    "language_info": {
      "name": "python"
    }
  },
  "cells": [
    {
      "cell_type": "markdown",
      "metadata": {
        "id": "view-in-github",
        "colab_type": "text"
      },
      "source": [
        "<a href=\"https://colab.research.google.com/github/naveen09peesari/cpp/blob/main/Untitled0.ipynb\" target=\"_parent\"><img src=\"https://colab.research.google.com/assets/colab-badge.svg\" alt=\"Open In Colab\"/></a>"
      ]
    },
    {
      "cell_type": "code",
      "source": [
        "# Python program for\n",
        "# Creation of Arrays\n",
        "import numpy as np\n",
        "# Creating a rank 1 Array\n",
        "arr = np.array([1, 2, 3])\n",
        "print(\"Array with Rank 1: \\n\",arr)\n",
        "\n",
        "# Creating a rank 2 Array\n",
        "arr = np.array([[1, 2, 3],\n",
        "                [4, 5, 6]])\n",
        "print(\"Array with Rank 2: \\n\", arr)\n",
        "\n",
        "# Creating an array from tuple\n",
        "arr = np.array((1, 3, 2))\n",
        "print(\"\\nArray created using \"\n",
        "      \"passed tuple:\\n\", arr)\n"
      ],
      "metadata": {
        "colab": {
          "base_uri": "https://localhost:8080/"
        },
        "id": "urBMB8bHpIwZ",
        "outputId": "5f43ddb6-01db-4b8a-93fd-854df8d9ca50"
      },
      "execution_count": 3,
      "outputs": [
        {
          "output_type": "stream",
          "name": "stdout",
          "text": [
            "Array with Rank 1: \n",
            " [1 2 3]\n",
            "Array with Rank 2: \n",
            " [[1 2 3]\n",
            " [4 5 6]]\n",
            "\n",
            "Array created using passed tuple:\n",
            " [1 3 2]\n"
          ]
        }
      ]
    },
    {
      "cell_type": "code",
      "source": [],
      "metadata": {
        "id": "e6qgn8LblZTX"
      },
      "execution_count": 2,
      "outputs": []
    },
    {
      "cell_type": "code",
      "execution_count": 2,
      "metadata": {
        "colab": {
          "base_uri": "https://localhost:8080/"
        },
        "id": "011OpMwak5jh",
        "outputId": "8fe42f24-69e0-4ff9-de95-4a8440f27cec"
      },
      "outputs": [
        {
          "output_type": "stream",
          "name": "stdout",
          "text": [
            "naveen\n"
          ]
        }
      ],
      "source": [
        "print(\"naveen\")"
      ]
    }
  ]
}