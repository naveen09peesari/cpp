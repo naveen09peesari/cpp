{
  "nbformat": 4,
  "nbformat_minor": 0,
  "metadata": {
    "colab": {
      "provenance": [],
      "authorship_tag": "ABX9TyNKXtC13kGym9pSKo9NxRpL",
      "include_colab_link": true
    },
    "kernelspec": {
      "name": "python3",
      "display_name": "Python 3"
    },
    "language_info": {
      "name": "python"
    }
  },
  "cells": [
    {
      "cell_type": "markdown",
      "metadata": {
        "id": "view-in-github",
        "colab_type": "text"
      },
      "source": [
        "<a href=\"https://colab.research.google.com/github/naveen09peesari/cpp/blob/main/Untitled0.ipynb\" target=\"_parent\"><img src=\"https://colab.research.google.com/assets/colab-badge.svg\" alt=\"Open In Colab\"/></a>"
      ]
    },
    {
      "cell_type": "code",
      "source": [
        "# Python program for\n",
        "# Creation of Arrays\n",
        "import numpy as np\n",
        "# Creating a rank 1 Array\n",
        "arr = np.array([1, 2, 3])\n",
        "print(\"Array with Rank 1: \\n\",arr)\n",
        "\n",
        "# Creating a rank 2 Array\n",
        "arr = np.array([[1, 2, 3],\n",
        "                [4, 5, 6]])\n",
        "print(\"Array with Rank 2: \\n\", arr)\n",
        "\n",
        "# Creating an array from tuple\n",
        "arr = np.array((1, 3, 2))\n",
        "print(\"\\nArray created using \"\n",
        "      \"passed tuple:\\n\", arr)\n"
      ],
      "metadata": {
        "colab": {
          "base_uri": "https://localhost:8080/"
        },
        "id": "urBMB8bHpIwZ",
        "outputId": "5f43ddb6-01db-4b8a-93fd-854df8d9ca50"
      },
      "execution_count": 3,
      "outputs": [
        {
          "output_type": "stream",
          "name": "stdout",
          "text": [
            "Array with Rank 1: \n",
            " [1 2 3]\n",
            "Array with Rank 2: \n",
            " [[1 2 3]\n",
            " [4 5 6]]\n",
            "\n",
            "Array created using passed tuple:\n",
            " [1 3 2]\n"
          ]
        }
      ]
    },
    {
      "cell_type": "code",
      "source": [],
      "metadata": {
        "id": "e6qgn8LblZTX"
      },
      "execution_count": 2,
      "outputs": []
    },
    {
      "cell_type": "code",
      "source": [
        "import numpy as np\n",
        "\n",
        "a = int(input(\"Enter a number: \"))\n",
        "b = [1, 2, 3, 4, 5]\n",
        "b.append(a)\n",
        "print(b)\n",
        "import numpy as np\n",
        "a = int(input(\"Enter a number: \"))\n",
        "b = np.array([1, 2, 3, 4, 5])\n",
        "b_list = b.tolist()\n",
        "b_list.append(a)\n",
        "b = np.array(b_list)\n",
        "print(b)\n",
        "# Example variables\n",
        "A = \"Hello, world!\"\n",
        "variable = 42\n",
        "float= 3.14\n",
        "list = [1, 2, 3]\n",
        "array = np.array([1, 2, 3])\n",
        "print(\"Type of string_variable:\", type(A))\n",
        "print(\"Type of variable:\", type(variable))\n",
        "print(\"Type of list:\", type(list_variable))\n",
        "print(\"Type of array:\", type(array_variable))\n",
        "# Check if each variable is a string\n",
        "print(\"Is A a string?\", isinstance(A, str))\n",
        "print(\"Is variable a string?\", isinstance(variable, str))\n",
        "print(\"Is float a string?\", isinstance(float, str))\n",
        "print(\"Is list a string?\", isinstance(list, str))\n",
        "print(\"Is array a string?\", isinstance(array, str))\n",
        "# Scalar values\n",
        "a = int(input(\"Enter a number: \"))\n",
        "b = int(input(\"Enter a number: \"))\n",
        "# Multiplication\n",
        "mul_result = a * b\n",
        "print(f\"{a} * {b} = {mul_result}\")\n",
        "# Division\n",
        "div_result = a / b\n",
        "print(f\"{a} / {b} = {div_result}\")\n",
        "# Power (Exponentiation)\n",
        "pow_result = a ** b\n",
        "print(f\"{a} ** {b} = {pow_result}\")\n",
        "import numpy as np\n",
        "# Create NumPy arrays\n",
        "arr1 = np.array([2, 4, 6])\n",
        "arr2 = np.array([1, 2, 3])\n",
        "# Multiplication\n",
        "mul_result_arr = arr1 * arr2\n",
        "print(f\"Array multiplication:\\n{arr1} * {arr2} = {mul_result_arr}\")\n",
        "# Division\n",
        "div_result_arr = arr1 / arr2\n",
        "print(f\"Array division:\\n{arr1} / {arr2} = {div_result_arr}\")\n",
        "# Power (Exponentiation)\n",
        "pow_result_arr = arr1 ** arr2\n",
        "print(f\"Array exponentiation:\\n{arr1} ** {arr2} = {pow_result_arr}\")\n",
        "import numpy as np\n",
        "# Scalar values\n",
        "x = 2.0\n",
        "# Sine of x\n",
        "sin_x = np.sin(x)\n",
        "print(f\"sin({x}) = {sin_x}\")\n",
        "# Natural logarithm of x\n",
        "log_x = np.log(x)\n",
        "print(f\"log({x}) = {log_x}\")\n",
        "# Base-2 logarithm of x\n",
        "log2_x = np.log2(x)\n",
        "print(f\"log2({x}) = {log2_x}\")\n",
        "# Exponential of x\n",
        "exp_x = np.exp(x)\n",
        "print(f\"exp({x}) = {exp_x}\")\n",
        "import numpy as np\n",
        "# Create a NumPy array\n",
        "arr = np.array([1, 2, 3, 4])\n",
        "# Sine of each element\n",
        "sin_arr = np.sin(arr)\n",
        "print(f\"sin({arr}) = {sin_arr}\")\n",
        "# Natural logarithm of each element\n",
        "log_arr = np.log(arr)\n",
        "print(f\"log({arr}) = {log_arr}\")\n",
        "# Base-2 logarithm of each element\n",
        "log2_arr = np.log2(arr)\n",
        "print(f\"log2({arr}) = {log2_arr}\")\n",
        "# Exponential of each element\n",
        "exp_arr = np.exp(arr)\n",
        "print(f\"exp({arr}) = {exp_arr}\")"
      ],
      "metadata": {
        "colab": {
          "base_uri": "https://localhost:8080/",
          "height": 315
        },
        "id": "Mt1qcqpXtYbw",
        "outputId": "878b0dc8-4012-48a9-adc6-ad456c6c12a7"
      },
      "execution_count": 5,
      "outputs": [
        {
          "output_type": "stream",
          "name": "stdout",
          "text": [
            "Enter a number: 11\n",
            "[1, 2, 3, 4, 5, 11]\n",
            "Enter a number: 22\n",
            "[ 1  2  3  4  5 22]\n",
            "Type of string_variable: <class 'str'>\n",
            "Type of variable: <class 'int'>\n"
          ]
        },
        {
          "output_type": "error",
          "ename": "NameError",
          "evalue": "name 'list_variable' is not defined",
          "traceback": [
            "\u001b[0;31m---------------------------------------------------------------------------\u001b[0m",
            "\u001b[0;31mNameError\u001b[0m                                 Traceback (most recent call last)",
            "\u001b[0;32m<ipython-input-5-9cf68210d2f2>\u001b[0m in \u001b[0;36m<cell line: 22>\u001b[0;34m()\u001b[0m\n\u001b[1;32m     20\u001b[0m \u001b[0mprint\u001b[0m\u001b[0;34m(\u001b[0m\u001b[0;34m\"Type of string_variable:\"\u001b[0m\u001b[0;34m,\u001b[0m \u001b[0mtype\u001b[0m\u001b[0;34m(\u001b[0m\u001b[0mA\u001b[0m\u001b[0;34m)\u001b[0m\u001b[0;34m)\u001b[0m\u001b[0;34m\u001b[0m\u001b[0;34m\u001b[0m\u001b[0m\n\u001b[1;32m     21\u001b[0m \u001b[0mprint\u001b[0m\u001b[0;34m(\u001b[0m\u001b[0;34m\"Type of variable:\"\u001b[0m\u001b[0;34m,\u001b[0m \u001b[0mtype\u001b[0m\u001b[0;34m(\u001b[0m\u001b[0mvariable\u001b[0m\u001b[0;34m)\u001b[0m\u001b[0;34m)\u001b[0m\u001b[0;34m\u001b[0m\u001b[0;34m\u001b[0m\u001b[0m\n\u001b[0;32m---> 22\u001b[0;31m \u001b[0mprint\u001b[0m\u001b[0;34m(\u001b[0m\u001b[0;34m\"Type of list:\"\u001b[0m\u001b[0;34m,\u001b[0m \u001b[0mtype\u001b[0m\u001b[0;34m(\u001b[0m\u001b[0mlist_variable\u001b[0m\u001b[0;34m)\u001b[0m\u001b[0;34m)\u001b[0m\u001b[0;34m\u001b[0m\u001b[0;34m\u001b[0m\u001b[0m\n\u001b[0m\u001b[1;32m     23\u001b[0m \u001b[0mprint\u001b[0m\u001b[0;34m(\u001b[0m\u001b[0;34m\"Type of array:\"\u001b[0m\u001b[0;34m,\u001b[0m \u001b[0mtype\u001b[0m\u001b[0;34m(\u001b[0m\u001b[0marray_variable\u001b[0m\u001b[0;34m)\u001b[0m\u001b[0;34m)\u001b[0m\u001b[0;34m\u001b[0m\u001b[0;34m\u001b[0m\u001b[0m\n\u001b[1;32m     24\u001b[0m \u001b[0;31m# Check if each variable is a string\u001b[0m\u001b[0;34m\u001b[0m\u001b[0;34m\u001b[0m\u001b[0m\n",
            "\u001b[0;31mNameError\u001b[0m: name 'list_variable' is not defined"
          ]
        }
      ]
    },
    {
      "cell_type": "code",
      "execution_count": 2,
      "metadata": {
        "colab": {
          "base_uri": "https://localhost:8080/"
        },
        "id": "011OpMwak5jh",
        "outputId": "8fe42f24-69e0-4ff9-de95-4a8440f27cec"
      },
      "outputs": [
        {
          "output_type": "stream",
          "name": "stdout",
          "text": [
            "naveen\n"
          ]
        }
      ],
      "source": [
        "print(\"naveen\")"
      ]
    }
  ]
}